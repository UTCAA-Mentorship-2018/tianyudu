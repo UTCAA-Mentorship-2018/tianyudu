{
 "cells": [
  {
   "cell_type": "code",
   "execution_count": 11,
   "metadata": {},
   "outputs": [
    {
     "name": "stdout",
     "output_type": "stream",
     "text": [
      "Data set avaiable: \n",
      "{'CLOUD': 'https://s3.us-east-2.amazonaws.com/tianyudu/kaggle/application_train.csv',\n",
      " 'DRIVE': '/Volumes/Intel/Data/UTCAA-Mentorship-2018/application_train.csv',\n",
      " 'EC2': '/home/ec2-user/environment/mentor_2018/data/application_train.csv',\n",
      " 'EC2SERVER': '/home/ec2-user/data/application_train.csv',\n",
      " 'MAC': '/Users/tianyudu/Documents/Activities/UTCAA-Mentorship-2018/data/application_train.csv'}\n",
      "Note that file directory selection is case senstive.\n",
      "Where is the dataset? [C: customize]>>> EC2SERVER\n",
      "Loading dataset from local file...\n",
      "Raw data shape: (307511, 122)\n",
      "Data shape after column drop(threshold: 0.1): (307511, 65)\n",
      "        num of features left 65\n",
      "Observation lost after ignoring obs w/ nan attributes:  0.969 %\n",
      "Data shape after ignoring obs w/ nan attributes: (304531, 65)\n",
      "Types in dataframe received:    {'int64', 'float64', 'object'}\n",
      "Feature with dtype: object (11) will be encoded.\n",
      "\tEncoding NAME_CONTRACT_TYPE\n",
      "\tEncoding CODE_GENDER\n",
      "\tEncoding FLAG_OWN_CAR\n",
      "\tEncoding FLAG_OWN_REALTY\n",
      "\tEncoding NAME_TYPE_SUITE\n",
      "\tEncoding NAME_INCOME_TYPE\n",
      "\tEncoding NAME_EDUCATION_TYPE\n",
      "\tEncoding NAME_FAMILY_STATUS\n",
      "\tEncoding NAME_HOUSING_TYPE\n",
      "\tEncoding WEEKDAY_APPR_PROCESS_START\n",
      "\tEncoding ORGANIZATION_TYPE\n",
      "Training set: (182718, 63), (182718,)\n",
      "Testing set: (60907, 63), (60907,)\n",
      "Validation set: (60906, 63), (60906,)\n"
     ]
    },
    {
     "name": "stderr",
     "output_type": "stream",
     "text": [
      "/usr/lib64/python3.6/dist-packages/sklearn/preprocessing/data.py:617: DataConversionWarning: Data with input dtype int64, float64 were all converted to float64 by StandardScaler.\n",
      "  return self.partial_fit(X, y)\n",
      "/home/ec2-user/code/tianyudu/gbm_classifier_exec.py:46: DataConversionWarning: Data with input dtype int64, float64 were all converted to float64 by StandardScaler.\n",
      "  scaler = StandardScaler().fit(X_train)\n",
      "/home/ec2-user/code/tianyudu/gbm_classifier_exec.py:47: DataConversionWarning: Data with input dtype int64, float64 were all converted to float64 by StandardScaler.\n",
      "  \n",
      "/home/ec2-user/code/tianyudu/gbm_classifier_exec.py:48: DataConversionWarning: Data with input dtype int64, float64 were all converted to float64 by StandardScaler.\n",
      "  scaled_X_train = scaler.transform(X_train)\n"
     ]
    },
    {
     "name": "stdout",
     "output_type": "stream",
     "text": [
      "Number of boosting rounds >>> 500\n",
      "[10]\ttraining's auc: 0.718346\ttraining's binary_logloss: 0.27221\tvalid_1's auc: 0.698784\tvalid_1's binary_logloss: 0.273072\n",
      "[20]\ttraining's auc: 0.725281\ttraining's binary_logloss: 0.266957\tvalid_1's auc: 0.703724\tvalid_1's binary_logloss: 0.26871\n",
      "[30]\ttraining's auc: 0.730405\ttraining's binary_logloss: 0.262569\tvalid_1's auc: 0.707236\tvalid_1's binary_logloss: 0.265267\n",
      "[40]\ttraining's auc: 0.735031\ttraining's binary_logloss: 0.259629\tvalid_1's auc: 0.709013\tvalid_1's binary_logloss: 0.263112\n",
      "[50]\ttraining's auc: 0.738965\ttraining's binary_logloss: 0.257275\tvalid_1's auc: 0.710238\tvalid_1's binary_logloss: 0.261603\n",
      "[60]\ttraining's auc: 0.74332\ttraining's binary_logloss: 0.255273\tvalid_1's auc: 0.712443\tvalid_1's binary_logloss: 0.260314\n",
      "[70]\ttraining's auc: 0.74685\ttraining's binary_logloss: 0.253539\tvalid_1's auc: 0.713809\tvalid_1's binary_logloss: 0.259335\n",
      "[80]\ttraining's auc: 0.750518\ttraining's binary_logloss: 0.252074\tvalid_1's auc: 0.714891\tvalid_1's binary_logloss: 0.258591\n",
      "[90]\ttraining's auc: 0.754135\ttraining's binary_logloss: 0.250649\tvalid_1's auc: 0.715902\tvalid_1's binary_logloss: 0.257969\n",
      "[100]\ttraining's auc: 0.757781\ttraining's binary_logloss: 0.249393\tvalid_1's auc: 0.716916\tvalid_1's binary_logloss: 0.257467\n",
      "[110]\ttraining's auc: 0.761537\ttraining's binary_logloss: 0.248206\tvalid_1's auc: 0.717813\tvalid_1's binary_logloss: 0.257036\n",
      "[120]\ttraining's auc: 0.765202\ttraining's binary_logloss: 0.247027\tvalid_1's auc: 0.718847\tvalid_1's binary_logloss: 0.256652\n",
      "[130]\ttraining's auc: 0.768335\ttraining's binary_logloss: 0.24589\tvalid_1's auc: 0.719635\tvalid_1's binary_logloss: 0.25627\n",
      "[140]\ttraining's auc: 0.771306\ttraining's binary_logloss: 0.244879\tvalid_1's auc: 0.719887\tvalid_1's binary_logloss: 0.256038\n",
      "[150]\ttraining's auc: 0.774002\ttraining's binary_logloss: 0.243917\tvalid_1's auc: 0.720112\tvalid_1's binary_logloss: 0.255843\n",
      "[160]\ttraining's auc: 0.777322\ttraining's binary_logloss: 0.242952\tvalid_1's auc: 0.720605\tvalid_1's binary_logloss: 0.255665\n",
      "[170]\ttraining's auc: 0.780077\ttraining's binary_logloss: 0.242035\tvalid_1's auc: 0.721076\tvalid_1's binary_logloss: 0.255477\n",
      "[180]\ttraining's auc: 0.783017\ttraining's binary_logloss: 0.241164\tvalid_1's auc: 0.721347\tvalid_1's binary_logloss: 0.255341\n",
      "[190]\ttraining's auc: 0.785994\ttraining's binary_logloss: 0.24034\tvalid_1's auc: 0.721709\tvalid_1's binary_logloss: 0.25523\n",
      "[200]\ttraining's auc: 0.789165\ttraining's binary_logloss: 0.239498\tvalid_1's auc: 0.722202\tvalid_1's binary_logloss: 0.255084\n",
      "[210]\ttraining's auc: 0.792125\ttraining's binary_logloss: 0.23868\tvalid_1's auc: 0.722429\tvalid_1's binary_logloss: 0.255007\n",
      "[220]\ttraining's auc: 0.794901\ttraining's binary_logloss: 0.237911\tvalid_1's auc: 0.722656\tvalid_1's binary_logloss: 0.25493\n",
      "[230]\ttraining's auc: 0.798025\ttraining's binary_logloss: 0.237103\tvalid_1's auc: 0.722851\tvalid_1's binary_logloss: 0.254878\n",
      "[240]\ttraining's auc: 0.800571\ttraining's binary_logloss: 0.236365\tvalid_1's auc: 0.722909\tvalid_1's binary_logloss: 0.254842\n",
      "[250]\ttraining's auc: 0.803121\ttraining's binary_logloss: 0.235629\tvalid_1's auc: 0.723122\tvalid_1's binary_logloss: 0.254775\n",
      "[260]\ttraining's auc: 0.805776\ttraining's binary_logloss: 0.2349\tvalid_1's auc: 0.723431\tvalid_1's binary_logloss: 0.254689\n",
      "[270]\ttraining's auc: 0.808505\ttraining's binary_logloss: 0.234191\tvalid_1's auc: 0.72364\tvalid_1's binary_logloss: 0.254652\n",
      "[280]\ttraining's auc: 0.8111\ttraining's binary_logloss: 0.233508\tvalid_1's auc: 0.723604\tvalid_1's binary_logloss: 0.254653\n",
      "[290]\ttraining's auc: 0.81377\ttraining's binary_logloss: 0.232802\tvalid_1's auc: 0.723747\tvalid_1's binary_logloss: 0.254606\n",
      "[300]\ttraining's auc: 0.816176\ttraining's binary_logloss: 0.23214\tvalid_1's auc: 0.723853\tvalid_1's binary_logloss: 0.254574\n",
      "[310]\ttraining's auc: 0.818522\ttraining's binary_logloss: 0.231492\tvalid_1's auc: 0.723814\tvalid_1's binary_logloss: 0.254569\n",
      "[320]\ttraining's auc: 0.820833\ttraining's binary_logloss: 0.230837\tvalid_1's auc: 0.723793\tvalid_1's binary_logloss: 0.254569\n",
      "[330]\ttraining's auc: 0.823063\ttraining's binary_logloss: 0.230244\tvalid_1's auc: 0.723834\tvalid_1's binary_logloss: 0.254553\n",
      "[340]\ttraining's auc: 0.825419\ttraining's binary_logloss: 0.229608\tvalid_1's auc: 0.723762\tvalid_1's binary_logloss: 0.254564\n",
      "[350]\ttraining's auc: 0.827642\ttraining's binary_logloss: 0.228946\tvalid_1's auc: 0.723798\tvalid_1's binary_logloss: 0.254558\n",
      "[360]\ttraining's auc: 0.82983\ttraining's binary_logloss: 0.22836\tvalid_1's auc: 0.723847\tvalid_1's binary_logloss: 0.254555\n",
      "[370]\ttraining's auc: 0.832082\ttraining's binary_logloss: 0.227734\tvalid_1's auc: 0.723923\tvalid_1's binary_logloss: 0.254532\n",
      "[380]\ttraining's auc: 0.834372\ttraining's binary_logloss: 0.227095\tvalid_1's auc: 0.72391\tvalid_1's binary_logloss: 0.254522\n",
      "[390]\ttraining's auc: 0.83651\ttraining's binary_logloss: 0.226488\tvalid_1's auc: 0.723895\tvalid_1's binary_logloss: 0.254522\n",
      "[400]\ttraining's auc: 0.8387\ttraining's binary_logloss: 0.225874\tvalid_1's auc: 0.723773\tvalid_1's binary_logloss: 0.254538\n",
      "[410]\ttraining's auc: 0.841025\ttraining's binary_logloss: 0.225247\tvalid_1's auc: 0.724103\tvalid_1's binary_logloss: 0.254482\n",
      "[420]\ttraining's auc: 0.843248\ttraining's binary_logloss: 0.224623\tvalid_1's auc: 0.724066\tvalid_1's binary_logloss: 0.254496\n",
      "[430]\ttraining's auc: 0.845327\ttraining's binary_logloss: 0.224039\tvalid_1's auc: 0.724057\tvalid_1's binary_logloss: 0.2545\n",
      "[440]\ttraining's auc: 0.847336\ttraining's binary_logloss: 0.223467\tvalid_1's auc: 0.723849\tvalid_1's binary_logloss: 0.254537\n",
      "[450]\ttraining's auc: 0.849217\ttraining's binary_logloss: 0.222886\tvalid_1's auc: 0.723809\tvalid_1's binary_logloss: 0.254545\n",
      "[460]\ttraining's auc: 0.851265\ttraining's binary_logloss: 0.222312\tvalid_1's auc: 0.723881\tvalid_1's binary_logloss: 0.254529\n",
      "[470]\ttraining's auc: 0.853218\ttraining's binary_logloss: 0.221689\tvalid_1's auc: 0.723989\tvalid_1's binary_logloss: 0.254491\n",
      "[480]\ttraining's auc: 0.855106\ttraining's binary_logloss: 0.221129\tvalid_1's auc: 0.723998\tvalid_1's binary_logloss: 0.254487\n",
      "[490]\ttraining's auc: 0.857068\ttraining's binary_logloss: 0.220512\tvalid_1's auc: 0.724014\tvalid_1's binary_logloss: 0.254497\n",
      "[500]\ttraining's auc: 0.858902\ttraining's binary_logloss: 0.219984\tvalid_1's auc: 0.723896\tvalid_1's binary_logloss: 0.254524\n",
      "Record Name >>> serverNov5_1\n",
      "Saving Feature Importances...\n",
      "Saving ROC plot...\n",
      "Saving AUC training history...\n",
      "Saving loss history...\n",
      "Saving importance plot...\n",
      "Saving model...\n"
     ]
    }
   ],
   "source": [
    "from gbm_classifier_exec import *"
   ]
  },
  {
   "cell_type": "code",
   "execution_count": 22,
   "metadata": {},
   "outputs": [
    {
     "name": "stderr",
     "output_type": "stream",
     "text": [
      "/usr/local/lib/python3.6/site-packages/partial_dependence.py:500: FutureWarning: Method .as_matrix will be removed in a future version. Use .values instead.\n",
      "  x_array = df_test[xlabel].as_matrix()\n"
     ]
    },
    {
     "ename": "AttributeError",
     "evalue": "'Booster' object has no attribute 'predict_proba'",
     "output_type": "error",
     "traceback": [
      "\u001b[0;31m---------------------------------------------------------------------------\u001b[0m",
      "\u001b[0;31mAttributeError\u001b[0m                            Traceback (most recent call last)",
      "\u001b[0;32m<ipython-input-22-73b0e9c7a7ab>\u001b[0m in \u001b[0;36m<module>\u001b[0;34m\u001b[0m\n\u001b[1;32m      3\u001b[0m                                           \u001b[0mclassifier\u001b[0m\u001b[0;34m,\u001b[0m\u001b[0;34m\u001b[0m\u001b[0m\n\u001b[1;32m      4\u001b[0m                                           \u001b[0mclassifier\u001b[0m\u001b[0;34m.\u001b[0m\u001b[0mfeature_name\u001b[0m\u001b[0;34m(\u001b[0m\u001b[0;34m)\u001b[0m\u001b[0;34m,\u001b[0m\u001b[0;34m\u001b[0m\u001b[0m\n\u001b[0;32m----> 5\u001b[0;31m                                           \"CODE_GENDER\")\n\u001b[0m",
      "\u001b[0;32m/usr/local/lib/python3.6/site-packages/partial_dependence.py\u001b[0m in \u001b[0;36m__init__\u001b[0;34m(self, df_test, model, class_array, class_focus, num_samples, scale, shift)\u001b[0m\n\u001b[1;32m    470\u001b[0m         \u001b[0mself\u001b[0m\u001b[0;34m.\u001b[0m\u001b[0mshft\u001b[0m \u001b[0;34m=\u001b[0m \u001b[0mshift\u001b[0m\u001b[0;34m\u001b[0m\u001b[0m\n\u001b[1;32m    471\u001b[0m \u001b[0;34m\u001b[0m\u001b[0m\n\u001b[0;32m--> 472\u001b[0;31m         \u001b[0mself\u001b[0m\u001b[0;34m.\u001b[0m\u001b[0m_compute_sampling\u001b[0m\u001b[0;34m(\u001b[0m\u001b[0;34m)\u001b[0m\u001b[0;34m\u001b[0m\u001b[0m\n\u001b[0m\u001b[1;32m    473\u001b[0m \u001b[0;34m\u001b[0m\u001b[0m\n\u001b[1;32m    474\u001b[0m     \u001b[0;32mdef\u001b[0m \u001b[0m_compute_sampling\u001b[0m\u001b[0;34m(\u001b[0m\u001b[0mself\u001b[0m\u001b[0;34m)\u001b[0m\u001b[0;34m:\u001b[0m\u001b[0;34m\u001b[0m\u001b[0m\n",
      "\u001b[0;32m/usr/local/lib/python3.6/site-packages/partial_dependence.py\u001b[0m in \u001b[0;36m_compute_sampling\u001b[0;34m(self)\u001b[0m\n\u001b[1;32m    506\u001b[0m             \u001b[0mx_array\u001b[0m \u001b[0;34m=\u001b[0m \u001b[0;34m(\u001b[0m\u001b[0mx_array\u001b[0m \u001b[0;34m+\u001b[0m \u001b[0mshift\u001b[0m\u001b[0;34m)\u001b[0m \u001b[0;34m*\u001b[0m \u001b[0mscale\u001b[0m\u001b[0;34m\u001b[0m\u001b[0m\n\u001b[1;32m    507\u001b[0m \u001b[0;34m\u001b[0m\u001b[0m\n\u001b[0;32m--> 508\u001b[0;31m         \u001b[0mpred\u001b[0m \u001b[0;34m=\u001b[0m \u001b[0mmodel\u001b[0m\u001b[0;34m.\u001b[0m\u001b[0mpredict_proba\u001b[0m\u001b[0;34m(\u001b[0m\u001b[0mx_array\u001b[0m\u001b[0;34m)\u001b[0m\u001b[0;34m\u001b[0m\u001b[0m\n\u001b[0m\u001b[1;32m    509\u001b[0m         \u001b[0moriginal_preds\u001b[0m \u001b[0;34m=\u001b[0m \u001b[0mnp\u001b[0m\u001b[0;34m.\u001b[0m\u001b[0marray\u001b[0m\u001b[0;34m(\u001b[0m\u001b[0;34m[\u001b[0m \u001b[0mx\u001b[0m\u001b[0;34m[\u001b[0m\u001b[0mdata_set_pred_index\u001b[0m\u001b[0;34m]\u001b[0m \u001b[0;32mfor\u001b[0m \u001b[0mx\u001b[0m \u001b[0;32min\u001b[0m \u001b[0mpred\u001b[0m \u001b[0;34m]\u001b[0m\u001b[0;34m)\u001b[0m\u001b[0;34m\u001b[0m\u001b[0m\n\u001b[1;32m    510\u001b[0m         \u001b[0;31m#thresh = get_roc_curve(original_preds,labs)[\"score\"]\u001b[0m\u001b[0;34m\u001b[0m\u001b[0;34m\u001b[0m\u001b[0m\n",
      "\u001b[0;31mAttributeError\u001b[0m: 'Booster' object has no attribute 'predict_proba'"
     ]
    }
   ],
   "source": []
  },
  {
   "cell_type": "code",
   "execution_count": 18,
   "metadata": {},
   "outputs": [
    {
     "data": {
      "text/plain": [
       "['NAME_CONTRACT_TYPE',\n",
       " 'CODE_GENDER',\n",
       " 'FLAG_OWN_CAR',\n",
       " 'FLAG_OWN_REALTY',\n",
       " 'CNT_CHILDREN',\n",
       " 'AMT_INCOME_TOTAL',\n",
       " 'AMT_CREDIT',\n",
       " 'AMT_ANNUITY',\n",
       " 'AMT_GOODS_PRICE',\n",
       " 'NAME_TYPE_SUITE',\n",
       " 'NAME_INCOME_TYPE',\n",
       " 'NAME_EDUCATION_TYPE',\n",
       " 'NAME_FAMILY_STATUS',\n",
       " 'NAME_HOUSING_TYPE',\n",
       " 'REGION_POPULATION_RELATIVE',\n",
       " 'DAYS_BIRTH',\n",
       " 'DAYS_EMPLOYED',\n",
       " 'DAYS_REGISTRATION',\n",
       " 'DAYS_ID_PUBLISH',\n",
       " 'FLAG_MOBIL',\n",
       " 'FLAG_EMP_PHONE',\n",
       " 'FLAG_WORK_PHONE',\n",
       " 'FLAG_CONT_MOBILE',\n",
       " 'FLAG_PHONE',\n",
       " 'FLAG_EMAIL',\n",
       " 'CNT_FAM_MEMBERS',\n",
       " 'REGION_RATING_CLIENT',\n",
       " 'REGION_RATING_CLIENT_W_CITY',\n",
       " 'WEEKDAY_APPR_PROCESS_START',\n",
       " 'HOUR_APPR_PROCESS_START',\n",
       " 'REG_REGION_NOT_LIVE_REGION',\n",
       " 'REG_REGION_NOT_WORK_REGION',\n",
       " 'LIVE_REGION_NOT_WORK_REGION',\n",
       " 'REG_CITY_NOT_LIVE_CITY',\n",
       " 'REG_CITY_NOT_WORK_CITY',\n",
       " 'LIVE_CITY_NOT_WORK_CITY',\n",
       " 'ORGANIZATION_TYPE',\n",
       " 'EXT_SOURCE_2',\n",
       " 'OBS_30_CNT_SOCIAL_CIRCLE',\n",
       " 'DEF_30_CNT_SOCIAL_CIRCLE',\n",
       " 'OBS_60_CNT_SOCIAL_CIRCLE',\n",
       " 'DEF_60_CNT_SOCIAL_CIRCLE',\n",
       " 'DAYS_LAST_PHONE_CHANGE',\n",
       " 'FLAG_DOCUMENT_2',\n",
       " 'FLAG_DOCUMENT_3',\n",
       " 'FLAG_DOCUMENT_4',\n",
       " 'FLAG_DOCUMENT_5',\n",
       " 'FLAG_DOCUMENT_6',\n",
       " 'FLAG_DOCUMENT_7',\n",
       " 'FLAG_DOCUMENT_8',\n",
       " 'FLAG_DOCUMENT_9',\n",
       " 'FLAG_DOCUMENT_10',\n",
       " 'FLAG_DOCUMENT_11',\n",
       " 'FLAG_DOCUMENT_12',\n",
       " 'FLAG_DOCUMENT_13',\n",
       " 'FLAG_DOCUMENT_14',\n",
       " 'FLAG_DOCUMENT_15',\n",
       " 'FLAG_DOCUMENT_16',\n",
       " 'FLAG_DOCUMENT_17',\n",
       " 'FLAG_DOCUMENT_18',\n",
       " 'FLAG_DOCUMENT_19',\n",
       " 'FLAG_DOCUMENT_20',\n",
       " 'FLAG_DOCUMENT_21']"
      ]
     },
     "execution_count": 18,
     "metadata": {},
     "output_type": "execute_result"
    }
   ],
   "source": []
  },
  {
   "cell_type": "code",
   "execution_count": null,
   "metadata": {},
   "outputs": [],
   "source": []
  }
 ],
 "metadata": {
  "kernelspec": {
   "display_name": "Python 3",
   "language": "python",
   "name": "python3"
  },
  "language_info": {
   "codemirror_mode": {
    "name": "ipython",
    "version": 3
   },
   "file_extension": ".py",
   "mimetype": "text/x-python",
   "name": "python",
   "nbconvert_exporter": "python",
   "pygments_lexer": "ipython3",
   "version": "3.6.5"
  }
 },
 "nbformat": 4,
 "nbformat_minor": 2
}
